{
 "cells": [
  {
   "cell_type": "code",
   "execution_count": 1,
   "id": "b792d714-514f-4286-883f-13ca92c5596d",
   "metadata": {},
   "outputs": [],
   "source": [
    "import pandas as pd\n",
    "import numpy as np\n",
    "import matplotlib.pyplot as plt\n",
    "import math\n",
    "\n",
    "n = 700\n",
    "\n",
    "slow_rep = pd.read_csv(\"M40_T60_K16.csv\").fillna(0)\n",
    "balanced_rep = pd.read_csv(\"M20_T30_K8.csv\").fillna(0)\n",
    "fast_rep = pd.read_csv(\"M10_T15_K4.csv\").fillna(0)\n",
    "\n",
    "slow_rep = slow_rep[slow_rep[\"type\"] == \"scalar\"]\n",
    "slow_rep_Qi = dict()\n",
    "for i in range(4):\n",
    "    temp = pd.DataFrame()\n",
    "    temp['valori'] = [slow_rep.value.values[j * 4 + i] for j in range(n)]\n",
    "    string = f\"SuperMarket.checkout.queues[{i}]\"\n",
    "    slow_rep_temp = pd.concat([slow_rep[slow_rep.module == string], temp], axis=1).reset_index().value\n",
    "    slow_rep_Qi[string] = slow_rep_temp\n",
    "\n",
    "balanced_rep = balanced_rep[balanced_rep[\"type\"] == \"scalar\"]\n",
    "balanced_rep_Qi = dict()\n",
    "for i in range(4):\n",
    "    temp = pd.DataFrame()\n",
    "    temp['valori'] = [balanced_rep.value.values[j * 4 + i] for j in range(n)]\n",
    "    string = f\"SuperMarket.checkout.queues[{i}]\"\n",
    "    balanced_rep_temp = pd.concat([balanced_rep[balanced_rep.module == string], temp], axis=1).reset_index().value\n",
    "    balanced_rep_Qi[string] = balanced_rep_temp\n",
    "\n",
    "fast_rep = fast_rep[fast_rep[\"type\"] == \"scalar\"]\n",
    "fast_rep_Qi = dict()\n",
    "for i in range(4):\n",
    "    temp = pd.DataFrame()\n",
    "    temp['valori'] = [fast_rep.value.values[j * 4 + i] for j in range(n)]\n",
    "    string = f\"SuperMarket.checkout.queues[{i}]\"\n",
    "    fast_rep_temp = pd.concat([fast_rep[fast_rep.module == string], temp], axis=1).reset_index().value\n",
    "    fast_rep_Qi[string] = fast_rep_temp"
   ]
  },
  {
   "cell_type": "code",
   "execution_count": 2,
   "id": "45876d46-0b8a-4586-8143-051f55fd29f3",
   "metadata": {},
   "outputs": [],
   "source": [
    "x_quick = pd.DataFrame([\n",
    "    ['Slow', 'Q0', slow_rep_Qi[\"SuperMarket.checkout.queues[0]\"].mean(), slow_rep_Qi[\"SuperMarket.checkout.queues[0]\"].std()],\n",
    "    ['Slow', 'Q1', slow_rep_Qi[\"SuperMarket.checkout.queues[1]\"].mean(), slow_rep_Qi[\"SuperMarket.checkout.queues[1]\"].std()],\n",
    "    ['Balanced', 'Q0', balanced_rep_Qi[\"SuperMarket.checkout.queues[0]\"].mean(), balanced_rep_Qi[\"SuperMarket.checkout.queues[0]\"].std()],\n",
    "    ['Balanced', 'Q1', balanced_rep_Qi[\"SuperMarket.checkout.queues[1]\"].mean(), balanced_rep_Qi[\"SuperMarket.checkout.queues[1]\"].std()],\n",
    "    ['Fast', 'Q0', fast_rep_Qi[\"SuperMarket.checkout.queues[0]\"].mean(), fast_rep_Qi[\"SuperMarket.checkout.queues[0]\"].std()],\n",
    "    ['Fast', 'Q1', fast_rep_Qi[\"SuperMarket.checkout.queues[1]\"].mean(), fast_rep_Qi[\"SuperMarket.checkout.queues[1]\"].std()],\n",
    "], columns=['Speed', 'Queue', 'Mean Waiting Time (s)', 'SD'])\n",
    "\n",
    "# Calcola gli intervalli di confidenza al 95%\n",
    "ci_quick = 1.96 * (x_quick['SD'] / (math.sqrt(n)))"
   ]
  },
  {
   "cell_type": "code",
   "execution_count": 3,
   "id": "0812f1b9-8f6f-4aef-8dd0-25ca90fb07ed",
   "metadata": {},
   "outputs": [
    {
     "name": "stdout",
     "output_type": "stream",
     "text": [
      "1.8851743246786457 - 1.9274010064982232\n",
      "0.718281279120015 - 1.0257933328240976\n",
      "1.004647138489788 - 1.0200156003359555\n",
      "0.46349002088415936 - 0.5727547627290407\n",
      "0.5621778262109605 - 0.5680020620291102\n",
      "0.27594970505550287 - 0.31248562043650774\n"
     ]
    }
   ],
   "source": [
    "for idx, row in x_quick.iterrows():\n",
    "    print(str(row[\"Mean Waiting Time (s)\"] - 1.96*row.SD/math.sqrt(n)) + \" - \" + str(row[\"Mean Waiting Time (s)\"] + 1.96*row.SD/math.sqrt(n)))"
   ]
  },
  {
   "cell_type": "code",
   "execution_count": 4,
   "id": "03483f5d-68f0-4349-88ee-0ae41a394363",
   "metadata": {},
   "outputs": [],
   "source": [
    "x_normal = pd.DataFrame([\n",
    "    ['Slow', 'Q2', slow_rep_Qi[\"SuperMarket.checkout.queues[2]\"].mean(), slow_rep_Qi[\"SuperMarket.checkout.queues[2]\"].std()],\n",
    "    ['Slow', 'Q3', slow_rep_Qi[\"SuperMarket.checkout.queues[3]\"].mean(), slow_rep_Qi[\"SuperMarket.checkout.queues[3]\"].std()],\n",
    "    ['Balanced', 'Q2', balanced_rep_Qi[\"SuperMarket.checkout.queues[2]\"].mean(), balanced_rep_Qi[\"SuperMarket.checkout.queues[2]\"].std()],\n",
    "    ['Balanced', 'Q3', balanced_rep_Qi[\"SuperMarket.checkout.queues[3]\"].mean(), balanced_rep_Qi[\"SuperMarket.checkout.queues[3]\"].std()],\n",
    "    ['Fast', 'Q2', fast_rep_Qi[\"SuperMarket.checkout.queues[2]\"].mean(), fast_rep_Qi[\"SuperMarket.checkout.queues[2]\"].std()],\n",
    "    ['Fast', 'Q3', fast_rep_Qi[\"SuperMarket.checkout.queues[3]\"].mean(), fast_rep_Qi[\"SuperMarket.checkout.queues[3]\"].std()],\n",
    "], columns=['Speed', 'Queue', 'Mean Waiting Time (s)', 'SD'])\n",
    "\n",
    "# Calcola gli intervalli di confidenza al 95%\n",
    "ci_normal = 1.96 * (x_normal['SD'] / (math.sqrt(n)))"
   ]
  },
  {
   "cell_type": "code",
   "execution_count": 5,
   "id": "ceefdbb2-d75c-4ab4-bda3-acbfd454bfcc",
   "metadata": {},
   "outputs": [
    {
     "name": "stdout",
     "output_type": "stream",
     "text": [
      "665.7110458284405 - 722.8038025337405\n",
      "641.5328298784838 - 698.9393815880632\n",
      "304.2510085663969 - 323.64247407513824\n",
      "295.6147163858638 - 315.43184251778763\n",
      "119.45314716472711 - 123.44445728684926\n",
      "115.41849491935221 - 119.69365533225127\n"
     ]
    }
   ],
   "source": [
    "for idx, row in x_normal.iterrows():\n",
    "    print(str(row[\"Mean Waiting Time (s)\"] - 1.96*row.SD/math.sqrt(n)) + \" - \" + str(row[\"Mean Waiting Time (s)\"] + 1.96*row.SD/math.sqrt(n)))"
   ]
  },
  {
   "cell_type": "code",
   "execution_count": 9,
   "id": "4a7d2325-ec2d-4c51-9131-40ae2bff5b27",
   "metadata": {},
   "outputs": [
    {
     "data": {
      "text/html": [
       "<div>\n",
       "<style scoped>\n",
       "    .dataframe tbody tr th:only-of-type {\n",
       "        vertical-align: middle;\n",
       "    }\n",
       "\n",
       "    .dataframe tbody tr th {\n",
       "        vertical-align: top;\n",
       "    }\n",
       "\n",
       "    .dataframe thead th {\n",
       "        text-align: right;\n",
       "    }\n",
       "</style>\n",
       "<table border=\"1\" class=\"dataframe\">\n",
       "  <thead>\n",
       "    <tr style=\"text-align: right;\">\n",
       "      <th></th>\n",
       "      <th>Speed</th>\n",
       "      <th>Queue</th>\n",
       "      <th>Mean Waiting Time (s)</th>\n",
       "      <th>SD</th>\n",
       "    </tr>\n",
       "  </thead>\n",
       "  <tbody>\n",
       "    <tr>\n",
       "      <th>0</th>\n",
       "      <td>Slow</td>\n",
       "      <td>Q0</td>\n",
       "      <td>1.906288</td>\n",
       "      <td>0.285003</td>\n",
       "    </tr>\n",
       "    <tr>\n",
       "      <th>1</th>\n",
       "      <td>Slow</td>\n",
       "      <td>Q1</td>\n",
       "      <td>0.872037</td>\n",
       "      <td>2.075511</td>\n",
       "    </tr>\n",
       "    <tr>\n",
       "      <th>2</th>\n",
       "      <td>Balanced</td>\n",
       "      <td>Q0</td>\n",
       "      <td>1.012331</td>\n",
       "      <td>0.103727</td>\n",
       "    </tr>\n",
       "    <tr>\n",
       "      <th>3</th>\n",
       "      <td>Balanced</td>\n",
       "      <td>Q1</td>\n",
       "      <td>0.518122</td>\n",
       "      <td>0.737468</td>\n",
       "    </tr>\n",
       "    <tr>\n",
       "      <th>4</th>\n",
       "      <td>Fast</td>\n",
       "      <td>Q0</td>\n",
       "      <td>0.565090</td>\n",
       "      <td>0.039310</td>\n",
       "    </tr>\n",
       "    <tr>\n",
       "      <th>5</th>\n",
       "      <td>Fast</td>\n",
       "      <td>Q1</td>\n",
       "      <td>0.294218</td>\n",
       "      <td>0.246594</td>\n",
       "    </tr>\n",
       "  </tbody>\n",
       "</table>\n",
       "</div>"
      ],
      "text/plain": [
       "      Speed Queue  Mean Waiting Time (s)        SD\n",
       "0      Slow    Q0               1.906288  0.285003\n",
       "1      Slow    Q1               0.872037  2.075511\n",
       "2  Balanced    Q0               1.012331  0.103727\n",
       "3  Balanced    Q1               0.518122  0.737468\n",
       "4      Fast    Q0               0.565090  0.039310\n",
       "5      Fast    Q1               0.294218  0.246594"
      ]
     },
     "execution_count": 9,
     "metadata": {},
     "output_type": "execute_result"
    }
   ],
   "source": [
    "x_quick"
   ]
  },
  {
   "cell_type": "code",
   "execution_count": 11,
   "id": "741f016d-f8a9-4e7c-9eb4-fd5fb15d9549",
   "metadata": {},
   "outputs": [
    {
     "data": {
      "text/plain": [
       "772.5425097558613"
      ]
     },
     "execution_count": 11,
     "metadata": {},
     "output_type": "execute_result"
    }
   ],
   "source": [
    "((1.96 * 0.233714) / (0.329617 * 0.05))**2 #using X_bar and S found with n = 40"
   ]
  },
  {
   "cell_type": "code",
   "execution_count": 7,
   "id": "9880c654-1056-4283-842b-9dfeaea0cf52",
   "metadata": {},
   "outputs": [
    {
     "data": {
      "image/png": "[encoded data removed]",
      "text/plain": [
       "<Figure size 700x500 with 1 Axes>"
      ]
     },
     "metadata": {},
     "output_type": "display_data"
    }
   ],
   "source": [
    "import seaborn as sns\n",
    "plt.figure(figsize=(7, 5))\n",
    "num_hues = len(np.unique(x_normal['Queue']))\n",
    "ax = sns.barplot(data=x_normal, x='Speed', y='Mean Waiting Time (s)', hue='Queue')\n",
    "ax.set_ylim(0, 800)\n",
    "for (hue, df_hue), dogde_dist in zip(x_normal.groupby('Queue'), np.linspace(-0.4, 0.4, 2 * num_hues + 1)[1::2]):\n",
    "    bars = ax.errorbar(data=df_hue, x='Speed', y='Mean Waiting Time (s)', yerr='SD', ls='', lw=3, color='black')\n",
    "    xys = bars.lines[0].get_xydata()\n",
    "    bars.remove()\n",
    "    ax.errorbar(data=df_hue, x=xys[:, 0] + dogde_dist, y='Mean Waiting Time (s)', yerr=np.array(ci_normal).reshape(2, 3), ls='', lw=3, color='black', capsize=10)\n",
    "plt.show()"
   ]
  },
  {
   "cell_type": "code",
   "execution_count": 8,
   "id": "bef42c7a-22f2-4f0a-9b5c-7f6d87a9c230",
   "metadata": {},
   "outputs": [
    {
     "data": {
      "image/png": "[encoded data removed]",
      "text/plain": [
       "<Figure size 700x500 with 1 Axes>"
      ]
     },
     "metadata": {},
     "output_type": "display_data"
    }
   ],
   "source": [
    "plt.figure(figsize=(7, 5))\n",
    "num_hues = len(np.unique(x_quick['Queue']))\n",
    "ax = sns.barplot(data=x_quick, x='Speed', y='Mean Waiting Time (s)', hue='Queue')\n",
    "ax.set_ylim(0, 2.5)\n",
    "for (hue, df_hue), dogde_dist in zip(x_quick.groupby('Queue'), np.linspace(-0.4, 0.4, 2 * num_hues + 1)[1::2]):\n",
    "    bars = ax.errorbar(data=df_hue, x='Speed', y='Mean Waiting Time (s)', yerr='SD', ls='', lw=3, color='black')\n",
    "    xys = bars.lines[0].get_xydata()\n",
    "    bars.remove()\n",
    "    ax.errorbar(data=df_hue, x=xys[:, 0] + dogde_dist, y='Mean Waiting Time (s)', yerr=np.array(ci_quick).reshape(2, 3), ls='', lw=3, color='black', capsize=10)\n",
    "plt.show()"
   ]
  },
  {
   "cell_type": "code",
   "execution_count": null,
   "id": "dbf108a2-60bb-43d3-9cd2-f5d9513003f0",
   "metadata": {},
   "outputs": [],
   "source": []
  }
 ],
 "metadata": {
  "kernelspec": {
   "display_name": "Python 3 (ipykernel)",
   "language": "python",
   "name": "python3"
  },
  "language_info": {
   "codemirror_mode": {
    "name": "ipython",
    "version": 3
   },
   "file_extension": ".py",
   "mimetype": "text/x-python",
   "name": "python",
   "nbconvert_exporter": "python",
   "pygments_lexer": "ipython3",
   "version": "3.11.4"
  }
 },
 "nbformat": 4,
 "nbformat_minor": 5
}
